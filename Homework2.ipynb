{
  "nbformat": 4,
  "nbformat_minor": 0,
  "metadata": {
    "colab": {
      "provenance": []
    },
    "kernelspec": {
      "name": "python3",
      "display_name": "Python 3"
    },
    "language_info": {
      "name": "python"
    }
  },
  "cells": [
    {
      "cell_type": "markdown",
      "source": [
        "##Q1"
      ],
      "metadata": {
        "id": "rPW2X4j-nBUe"
      }
    },
    {
      "cell_type": "code",
      "source": [
        "import numpy as np"
      ],
      "metadata": {
        "id": "9sAOetdUnfca"
      },
      "execution_count": 19,
      "outputs": []
    },
    {
      "cell_type": "code",
      "execution_count": 20,
      "metadata": {
        "id": "UsF_2soiPoPq",
        "colab": {
          "base_uri": "https://localhost:8080/"
        },
        "outputId": "e2d1ea23-4b89-4da9-c383-30d5990b474a"
      },
      "outputs": [
        {
          "output_type": "stream",
          "name": "stdout",
          "text": [
            "A:\n",
            " [[1 2 3]\n",
            " [4 5 6]]\n",
            "B:\n",
            " [[4 5 6]\n",
            " [7 8 9]]\n",
            "Vertical stack (vstack):\n",
            " [[1 2 3]\n",
            " [4 5 6]\n",
            " [4 5 6]\n",
            " [7 8 9]]\n",
            "Horizontal stack (hstack):\n",
            " [[1 2 3 4 5 6]\n",
            " [4 5 6 7 8 9]]\n"
          ]
        }
      ],
      "source": [
        "A = np.array([[1, 2, 3],\n",
        "              [4, 5, 6]])\n",
        "B = np.array([[4, 5, 6],\n",
        "              [7, 8, 9]])\n",
        "\n",
        "v_stacked = np.vstack([A, B])\n",
        "h_stacked = np.hstack([A, B])\n",
        "\n",
        "print(\"A:\\n\", A)\n",
        "print(\"B:\\n\", B)\n",
        "print(\"Vertical stack (vstack):\\n\", v_stacked)\n",
        "print(\"Horizontal stack (hstack):\\n\", h_stacked)"
      ]
    },
    {
      "cell_type": "code",
      "source": [
        "common = np.intersect1d(A.ravel(), B.ravel())\n",
        "print(\"Common elements between A and B:\", common)"
      ],
      "metadata": {
        "colab": {
          "base_uri": "https://localhost:8080/"
        },
        "id": "plKmGtFznK3A",
        "outputId": "7acd3a7c-8870-4d5c-c47d-ca12341a1e65"
      },
      "execution_count": 21,
      "outputs": [
        {
          "output_type": "stream",
          "name": "stdout",
          "text": [
            "Common elements between A and B: [4 5 6]\n"
          ]
        }
      ]
    },
    {
      "cell_type": "code",
      "source": [
        "low, high = 5, 10\n",
        "in_range_mask = (A >= low) & (A <= high)\n",
        "in_range_vals = A[in_range_mask]\n",
        "print(f\"Values in A between {low} and {high} (inclusive):\", in_range_vals)"
      ],
      "metadata": {
        "colab": {
          "base_uri": "https://localhost:8080/"
        },
        "id": "8o6FqtGLnNYH",
        "outputId": "c967da02-6ec8-45f5-d065-2dac69ff42f8"
      },
      "execution_count": 22,
      "outputs": [
        {
          "output_type": "stream",
          "name": "stdout",
          "text": [
            "Values in A between 5 and 10 (inclusive): [5 6]\n"
          ]
        }
      ]
    },
    {
      "cell_type": "code",
      "source": [
        "url = 'https://archive.ics.uci.edu/ml/machine-learning-databases/iris/iris.data'\n",
        "iris_2d = np.genfromtxt(url, delimiter=',', dtype='float', usecols=[0,1,2,3])\n",
        "\n",
        "mask = (iris_2d[:, 2] > 1.5) & (iris_2d[:, 0] < 5.0)\n",
        "filtered = iris_2d[mask]\n",
        "\n",
        "print(\"Filtered iris_2d shape:\", filtered.shape)\n",
        "print(\"Filtered rows:\\n\", filtered)"
      ],
      "metadata": {
        "colab": {
          "base_uri": "https://localhost:8080/"
        },
        "id": "DvaYBn4anP6T",
        "outputId": "9d2b1034-1585-45c6-d328-56f3b14ddd08"
      },
      "execution_count": 23,
      "outputs": [
        {
          "output_type": "stream",
          "name": "stdout",
          "text": [
            "Filtered iris_2d shape: (6, 4)\n",
            "Filtered rows:\n",
            " [[4.8 3.4 1.6 0.2]\n",
            " [4.8 3.4 1.9 0.2]\n",
            " [4.7 3.2 1.6 0.2]\n",
            " [4.8 3.1 1.6 0.2]\n",
            " [4.9 2.4 3.3 1. ]\n",
            " [4.9 2.5 4.5 1.7]]\n"
          ]
        }
      ]
    },
    {
      "cell_type": "markdown",
      "source": [
        "##Q2"
      ],
      "metadata": {
        "id": "LGQFlv75tKD9"
      }
    },
    {
      "cell_type": "code",
      "source": [
        "import pandas as pd"
      ],
      "metadata": {
        "id": "Lawj0kXqtM0K"
      },
      "execution_count": 24,
      "outputs": []
    },
    {
      "cell_type": "code",
      "source": [
        "df = pd.read_csv('https://raw.githubusercontent.com/selva86/datasets/master/Cars93_miss.csv')\n",
        "\n",
        "result = df.loc[::20, ['Manufacturer', 'Model', 'Type']]\n",
        "print(\"Every 20th row (columns: Manufacturer, Model, Type):\")\n",
        "print(result)\n"
      ],
      "metadata": {
        "colab": {
          "base_uri": "https://localhost:8080/"
        },
        "id": "-6WtTLDntyib",
        "outputId": "043118e9-a2e4-4eff-ec8e-9a9ca3a33511"
      },
      "execution_count": 25,
      "outputs": [
        {
          "output_type": "stream",
          "name": "stdout",
          "text": [
            "Every 20th row (columns: Manufacturer, Model, Type):\n",
            "   Manufacturer    Model     Type\n",
            "0         Acura  Integra    Small\n",
            "20     Chrysler  LeBaron  Compact\n",
            "40        Honda  Prelude   Sporty\n",
            "60      Mercury   Cougar  Midsize\n",
            "80       Subaru   Loyale    Small\n"
          ]
        }
      ]
    },
    {
      "cell_type": "code",
      "source": [
        "df = pd.read_csv('https://raw.githubusercontent.com/selva86/datasets/master/Cars93_miss.csv')\n",
        "\n",
        "df['Min.Price'].fillna(df['Min.Price'].mean(), inplace=True)\n",
        "df['Max.Price'].fillna(df['Max.Price'].mean(), inplace=True)\n",
        "\n",
        "print(\"\\nMissing values replaced with column means:\")\n",
        "print(df[['Min.Price', 'Max.Price']].head())"
      ],
      "metadata": {
        "colab": {
          "base_uri": "https://localhost:8080/"
        },
        "id": "PNHhWEHtt1aq",
        "outputId": "14e45d15-86a3-46e2-a98e-240215018d31"
      },
      "execution_count": 26,
      "outputs": [
        {
          "output_type": "stream",
          "name": "stdout",
          "text": [
            "\n",
            "Missing values replaced with column means:\n",
            "   Min.Price  Max.Price\n",
            "0  12.900000  18.800000\n",
            "1  29.200000  38.700000\n",
            "2  25.900000  32.300000\n",
            "3  17.118605  44.600000\n",
            "4  17.118605  21.459091\n"
          ]
        },
        {
          "output_type": "stream",
          "name": "stderr",
          "text": [
            "/tmp/ipython-input-708459314.py:3: FutureWarning: A value is trying to be set on a copy of a DataFrame or Series through chained assignment using an inplace method.\n",
            "The behavior will change in pandas 3.0. This inplace method will never work because the intermediate object on which we are setting values always behaves as a copy.\n",
            "\n",
            "For example, when doing 'df[col].method(value, inplace=True)', try using 'df.method({col: value}, inplace=True)' or df[col] = df[col].method(value) instead, to perform the operation inplace on the original object.\n",
            "\n",
            "\n",
            "  df['Min.Price'].fillna(df['Min.Price'].mean(), inplace=True)\n",
            "/tmp/ipython-input-708459314.py:4: FutureWarning: A value is trying to be set on a copy of a DataFrame or Series through chained assignment using an inplace method.\n",
            "The behavior will change in pandas 3.0. This inplace method will never work because the intermediate object on which we are setting values always behaves as a copy.\n",
            "\n",
            "For example, when doing 'df[col].method(value, inplace=True)', try using 'df.method({col: value}, inplace=True)' or df[col] = df[col].method(value) instead, to perform the operation inplace on the original object.\n",
            "\n",
            "\n",
            "  df['Max.Price'].fillna(df['Max.Price'].mean(), inplace=True)\n"
          ]
        }
      ]
    },
    {
      "cell_type": "code",
      "source": [
        "df2 = pd.DataFrame(np.random.randint(10, 40, 60).reshape(-1, 4))\n",
        "print(\"\\nOriginal random DataFrame:\")\n",
        "print(df2.head())\n",
        "\n",
        "rows_over_100 = df2[df2.sum(axis=1) > 100]\n",
        "print(\"\\nRows with sum > 100:\")\n",
        "print(rows_over_100)"
      ],
      "metadata": {
        "colab": {
          "base_uri": "https://localhost:8080/"
        },
        "id": "hp95cRdRt6zp",
        "outputId": "11f6c458-26cf-4fd8-8464-6ce565119d4d"
      },
      "execution_count": 27,
      "outputs": [
        {
          "output_type": "stream",
          "name": "stdout",
          "text": [
            "\n",
            "Original random DataFrame:\n",
            "    0   1   2   3\n",
            "0  35  28  29  37\n",
            "1  13  32  18  10\n",
            "2  23  11  22  15\n",
            "3  18  29  13  37\n",
            "4  24  21  15  19\n",
            "\n",
            "Rows with sum > 100:\n",
            "     0   1   2   3\n",
            "0   35  28  29  37\n",
            "5   27  23  18  35\n",
            "10  16  20  36  37\n",
            "12  15  10  39  38\n",
            "14  37  39  36  35\n"
          ]
        }
      ]
    }
  ]
}